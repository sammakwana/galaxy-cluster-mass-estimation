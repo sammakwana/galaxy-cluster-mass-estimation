{
 "cells": [
  {
   "cell_type": "markdown",
   "id": "2bec461b",
   "metadata": {},
   "source": [
    "# Estimating the Dynamical Mass of a Galaxy Cluster\n",
    "\n",
    "This notebook simulates a galaxy cluster and estimates its total mass using the virial theorem.\n",
    "\n",
    "Steps:\n",
    "- Simulate galaxy positions and velocities\n",
    "- Compute velocity dispersion\n",
    "- Estimate average cluster radius\n",
    "- Calculate the dynamical mass using the virial theorem\n"
   ]
  },
  {
   "cell_type": "code",
   "execution_count": null,
   "id": "f7bee786",
   "metadata": {},
   "outputs": [],
   "source": [
    "import numpy as np\n",
    "import matplotlib.pyplot as plt\n",
    "from scipy.constants import G\n",
    "import pandas as pd"
   ]
  },
  {
   "cell_type": "code",
   "execution_count": null,
   "id": "f544c5b5",
   "metadata": {},
   "outputs": [],
   "source": [
    "# Simulate data for 100 galaxies\n",
    "np.random.seed(42)\n",
    "n_galaxies = 100\n",
    "\n",
    "# Generate 3D positions (Mpc) and calculate radial distances\n",
    "positions = np.random.normal(0, 1, (n_galaxies, 3))\n",
    "radii = np.linalg.norm(positions, axis=1)\n",
    "\n",
    "# Generate line-of-sight velocities (km/s)\n",
    "velocities = np.random.normal(loc=0, scale=800, size=n_galaxies)"
   ]
  },
  {
   "cell_type": "code",
   "execution_count": null,
   "id": "72254d34",
   "metadata": {},
   "outputs": [],
   "source": [
    "# Compute velocity dispersion and mean radius\n",
    "velocity_dispersion = np.std(velocities)\n",
    "cluster_radius = np.mean(radii)\n",
    "\n",
    "# Convert to SI units\n",
    "velocity_dispersion_m = velocity_dispersion * 1e3  # km/s to m/s\n",
    "radius_m = cluster_radius * 3.086e22  # Mpc to meters\n",
    "\n",
    "# Apply virial theorem: M = 3 * sigma^2 * R / G\n",
    "mass_kg = 3 * velocity_dispersion_m**2 * radius_m / G\n",
    "mass_solar = mass_kg / 1.989e30  # Convert to solar masses\n",
    "\n",
    "print(f\"Velocity Dispersion: {velocity_dispersion:.2f} km/s\")\n",
    "print(f\"Average Cluster Radius: {cluster_radius:.2f} Mpc\")\n",
    "print(f\"Estimated Mass: {mass_solar:.2e} solar masses\")"
   ]
  },
  {
   "cell_type": "code",
   "execution_count": null,
   "id": "f83c9a3f",
   "metadata": {},
   "outputs": [],
   "source": [
    "# Plot histograms of radii and velocities\n",
    "fig, axs = plt.subplots(1, 2, figsize=(12, 5))\n",
    "\n",
    "axs[0].hist(radii, bins=15, color='skyblue', edgecolor='black')\n",
    "axs[0].set_title('Galaxy Radial Distribution')\n",
    "axs[0].set_xlabel('Radius (Mpc)')\n",
    "axs[0].set_ylabel('Number of Galaxies')\n",
    "\n",
    "axs[1].hist(velocities, bins=15, color='salmon', edgecolor='black')\n",
    "axs[1].set_title('Galaxy Velocity Distribution')\n",
    "axs[1].set_xlabel('Velocity (km/s)')\n",
    "axs[1].set_ylabel('Number of Galaxies')\n",
    "\n",
    "plt.tight_layout()\n",
    "plt.show()"
   ]
  },
  {
   "cell_type": "markdown",
   "id": "36e35cc8",
   "metadata": {},
   "source": [
    "## Summary\n",
    "\n",
    "- **Velocity Dispersion**: Computed from simulated velocity data  \n",
    "- **Cluster Radius**: Mean distance of galaxies from the cluster center  \n",
    "- **Dynamical Mass**: Estimated using the virial theorem  \n",
    "- **Limitations**: Simulated data, simplified assumptions\n",
    "\n",
    "This method provides a basic mass estimate using galaxy kinematics.\n"
   ]
  }
 ],
 "metadata": {},
 "nbformat": 4,
 "nbformat_minor": 5
}